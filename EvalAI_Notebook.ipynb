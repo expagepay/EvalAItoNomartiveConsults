{
 "cells": [
  {
   "cell_type": "markdown",
   "id": "84533f98",
   "metadata": {},
   "source": [
    "# Avaliação de Modelos de IA para Consultas Jurídicas Brasileiras\n",
    "\n",
    "Este notebook permite executar o pipeline de avaliação de modelos de IA especializados em direito brasileiro. Ele inclui setup completo, configuração de cache e execução intuitiva baseada no script `run.py`.\n",
    "\n",
    "## Pré-requisitos\n",
    "- Conta no OpenRouter para API key\n",
    "- Ambiente Colab ou Jupyter com acesso a GPU (recomendado)\n",
    "\n",
    "## Passos do Setup\n",
    "1. Definir API key do OpenRouter\n",
    "2. Clonar repositório\n",
    "3. Instalar dependências\n",
    "4. Configurar cache do Hugging Face\n",
    "5. Executar avaliação"
   ]
  },
  {
   "cell_type": "markdown",
   "id": "f440b9c0",
   "metadata": {},
   "source": [
    "## 1. Definir API Key do OpenRouter\n",
    "\n",
    "Execute a célula abaixo e insira sua API key quando solicitado. Ela será armazenada como variável de ambiente."
   ]
  },
  {
   "cell_type": "code",
   "execution_count": null,
   "id": "8ad6a430",
   "metadata": {},
   "outputs": [],
   "source": [
    "import os\n",
    "\n",
    "# Solicitar API key do usuário\n",
    "api_key = input(\"Digite sua API key do OpenRouter: \")\n",
    "os.environ['OPENAI_API_KEY'] = api_key\n",
    "print(\"API key definida com sucesso!\")"
   ]
  },
  {
   "cell_type": "markdown",
   "id": "2826add1",
   "metadata": {},
   "source": [
    "## 2. Clonar Repositório\n",
    "\n",
    "Clone o repositório oficial do projeto."
   ]
  },
  {
   "cell_type": "code",
   "execution_count": null,
   "id": "b361a99c",
   "metadata": {},
   "outputs": [],
   "source": [
    "!git clone https://github.com/expagepay/EvalAItoNomartiveConsults.git\n",
    "%cd EvalAItoNomartiveConsults"
   ]
  },
  {
   "cell_type": "markdown",
   "id": "5f12d184",
   "metadata": {},
   "source": [
    "## 3. Instalar Dependências\n",
    "\n",
    "Instale todas as bibliotecas necessárias do arquivo `requirements.txt`."
   ]
  },
  {
   "cell_type": "code",
   "execution_count": null,
   "id": "0936ef32",
   "metadata": {},
   "outputs": [],
   "source": [
    "!pip install -r requirements.txt"
   ]
  },
  {
   "cell_type": "markdown",
   "id": "307e3529",
   "metadata": {},
   "source": [
    "## 4. Configurar Cache do Hugging Face\n",
    "\n",
    "Configure o cache para otimizar downloads de modelos e evitar re-downloads."
   ]
  },
  {
   "cell_type": "code",
   "execution_count": null,
   "id": "227066e0",
   "metadata": {},
   "outputs": [],
   "source": [
    "import os\n",
    "\n",
    "# Configurar caminhos de cache (adaptado para Colab/Linux)\n",
    "cache_dir = '/content/HF_Cache'\n",
    "os.makedirs(cache_dir, exist_ok=True)\n",
    "\n",
    "os.environ['HF_HUB_CACHE'] = cache_dir\n",
    "os.environ['HF_HUB_DISABLE_SYMLINKS_WARNING'] = '1'\n",
    "os.environ['TRANSFORMERS_CACHE'] = cache_dir\n",
    "os.environ['HF_HF_HUB_CACHE'] = os.path.join(cache_dir, 'models')\n",
    "\n",
    "print(f\"Cache configurado em: {cache_dir}\")"
   ]
  },
  {
   "cell_type": "markdown",
   "id": "3108b455",
   "metadata": {},
   "source": [
    "## 5. Executar Avaliação\n",
    "\n",
    "Agora você pode executar o pipeline de avaliação usando os argumentos do `run.py`. Aqui estão algumas opções:\n",
    "\n",
    "### Opções de Execução:\n",
    "- `--quick_eval`: Avaliação rápida com conjunto padrão de perguntas\n",
    "- `--perguntas \"Pergunta 1\" \"Pergunta 2\"`: Lista de perguntas (use aspas para espaços)\n",
    "- `--ground_truth \"Resposta 1\" \"Resposta 2\"`: Respostas ideais (opcional, use \"\" para vazio)\n",
    "- `--csv_file arquivo.csv`: Arquivo CSV com perguntas e ground truths\n",
    "- `--num_queries N`: Número de queries por pergunta (padrão: 3)\n",
    "- `--modelos modelo1 modelo2`: Lista de modelos a comparar\n",
    "\n",
    "### Exemplos:\n",
    "- Avaliação rápida: `!python run.py --quick_eval`\n",
    "- Com perguntas customizadas: `!python run.py --perguntas \"O que é a LGPD?\" \"Direitos do consumidor\" --ground_truth \"Lei de proteção de dados\" \"\"`\n",
    "- Com CSV: `!python run.py --csv_file meu_arquivo.csv`"
   ]
  },
  {
   "cell_type": "code",
   "execution_count": null,
   "id": "8e231ad2",
   "metadata": {},
   "outputs": [],
   "source": [
    "# Exemplo: Avaliação rápida\n",
    "!python run.py --quick_eval --num_queries 2"
   ]
  },
  {
   "cell_type": "markdown",
   "id": "296cc4ab",
   "metadata": {},
   "source": [
    "## Resultados\n",
    "\n",
    "Após a execução, os resultados serão salvos em:\n",
    "- `resultados.csv`: Dados tabulares\n",
    "- `resultados.json`: Dados estruturados\n",
    "- `comparacao_modelos.json`: Comparação entre modelos\n",
    "- `report.py`: Gera relatório detalhado\n",
    "\n",
    "Para visualizar os resultados, execute o relatório:"
   ]
  },
  {
   "cell_type": "code",
   "execution_count": null,
   "id": "407408f9",
   "metadata": {},
   "outputs": [],
   "source": [
    "# Gerar relatório\n",
    "!python report.py"
   ]
  }
 ],
 "metadata": {
  "language_info": {
   "name": "python"
  }
 },
 "nbformat": 4,
 "nbformat_minor": 5
}
